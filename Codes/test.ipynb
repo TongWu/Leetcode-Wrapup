{
 "cells": [
  {
   "cell_type": "code",
   "execution_count": 2,
   "id": "initial_id",
   "metadata": {
    "collapsed": true,
    "ExecuteTime": {
     "end_time": "2023-12-09T16:45:18.792412Z",
     "start_time": "2023-12-09T16:45:18.791645Z"
    }
   },
   "outputs": [
    {
     "data": {
      "text/plain": "97"
     },
     "execution_count": 2,
     "metadata": {},
     "output_type": "execute_result"
    }
   ],
   "source": [
    "ord(\"a\")"
   ]
  },
  {
   "cell_type": "code",
   "execution_count": 3,
   "outputs": [
    {
     "data": {
      "text/plain": "122"
     },
     "execution_count": 3,
     "metadata": {},
     "output_type": "execute_result"
    }
   ],
   "source": [
    "ord(\"z\")"
   ],
   "metadata": {
    "collapsed": false,
    "ExecuteTime": {
     "end_time": "2023-12-09T16:45:22.585056Z",
     "start_time": "2023-12-09T16:45:22.583135Z"
    }
   },
   "id": "5eaeeef9cd53d580"
  },
  {
   "cell_type": "code",
   "execution_count": 4,
   "outputs": [
    {
     "data": {
      "text/plain": "1"
     },
     "execution_count": 4,
     "metadata": {},
     "output_type": "execute_result"
    }
   ],
   "source": [
    "ord(\"a\") % 96"
   ],
   "metadata": {
    "collapsed": false,
    "ExecuteTime": {
     "end_time": "2023-12-09T16:45:32.638424Z",
     "start_time": "2023-12-09T16:45:32.637848Z"
    }
   },
   "id": "7ff68c509022e530"
  },
  {
   "cell_type": "code",
   "execution_count": 5,
   "outputs": [
    {
     "name": "stdout",
     "output_type": "stream",
     "text": [
      "[1, 0, 0, 0, 0, 0, 0, 0, 0, 0, 0, 0, 0, 0, 0, 0, 0, 1, 0, 1, 0, 0, 0, 0, 0, 0, 0, 0]\n"
     ]
    },
    {
     "data": {
      "text/plain": "'false'"
     },
     "execution_count": 5,
     "metadata": {},
     "output_type": "execute_result"
    }
   ],
   "source": [
    "def isAnagram(s, t):\n",
    "    \"\"\"\n",
    "    :type s: str\n",
    "    :type t: str\n",
    "    :rtype: bool\n",
    "    \"\"\"\n",
    "    array = [0 for _ in range(28)]\n",
    "    def hash(char):\n",
    "        return ord(char) % 97\n",
    "    for char in s:\n",
    "        array[hash(char)] += 1\n",
    "    print(array)\n",
    "    for char in t:\n",
    "        if array[hash(char)] >= 1:\n",
    "            array[hash(char)] -= 1\n",
    "        else:\n",
    "            return \"false\"\n",
    "    # Check the array is empty\n",
    "    for i in array:\n",
    "        if i != 0:\n",
    "            return \"false\"\n",
    "    return \"true\"\n",
    "isAnagram('rat', 'car')"
   ],
   "metadata": {
    "collapsed": false,
    "ExecuteTime": {
     "end_time": "2023-12-09T16:53:11.244667Z",
     "start_time": "2023-12-09T16:53:11.241631Z"
    }
   },
   "id": "add79e16d49451e9"
  },
  {
   "cell_type": "code",
   "execution_count": 6,
   "outputs": [
    {
     "name": "stdout",
     "output_type": "stream",
     "text": [
      "0x0\n",
      "0x1\n",
      "0xa\n",
      "0xb\n"
     ]
    }
   ],
   "source": [
    "writeBuffer = [00,1,10,11]\n",
    "for element in writeBuffer:\n",
    "    #for char in element:\n",
    "    print(hex(element))"
   ],
   "metadata": {
    "collapsed": false,
    "ExecuteTime": {
     "end_time": "2024-01-03T05:39:19.041467Z",
     "start_time": "2024-01-03T05:39:19.037396Z"
    }
   },
   "id": "b8b6807fe0a2342d"
  },
  {
   "cell_type": "code",
   "outputs": [],
   "source": [],
   "metadata": {
    "collapsed": false
   },
   "id": "52b8e64465251117"
  }
 ],
 "metadata": {
  "kernelspec": {
   "display_name": "Python 3",
   "language": "python",
   "name": "python3"
  },
  "language_info": {
   "codemirror_mode": {
    "name": "ipython",
    "version": 2
   },
   "file_extension": ".py",
   "mimetype": "text/x-python",
   "name": "python",
   "nbconvert_exporter": "python",
   "pygments_lexer": "ipython2",
   "version": "2.7.6"
  }
 },
 "nbformat": 4,
 "nbformat_minor": 5
}
